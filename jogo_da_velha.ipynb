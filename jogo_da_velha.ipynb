{
  "nbformat": 4,
  "nbformat_minor": 0,
  "metadata": {
    "colab": {
      "provenance": [],
      "authorship_tag": "ABX9TyO7eZA3j9QsTH/fztv2MOfL",
      "include_colab_link": true
    },
    "kernelspec": {
      "name": "python3",
      "display_name": "Python 3"
    },
    "language_info": {
      "name": "python"
    }
  },
  "cells": [
    {
      "cell_type": "markdown",
      "metadata": {
        "id": "view-in-github",
        "colab_type": "text"
      },
      "source": [
        "<a href=\"https://colab.research.google.com/github/olimorais/Projetos_Python/blob/main/jogo_da_velha.ipynb\" target=\"_parent\"><img src=\"https://colab.research.google.com/assets/colab-badge.svg\" alt=\"Open In Colab\"/></a>"
      ]
    },
    {
      "cell_type": "markdown",
      "source": [
        "# Projeto 4) Jogo da Velha\n",
        "\n",
        "Aqui nesse projeto vamos implementar o clássico jogo da velha, onde os dois jogadores podem competir entre si.\n",
        "\n",
        "Vamos implementar diversas funções, onde cada uma tem uma responsabilidade específica, tornando o código mais modular e fácil de entender.\n",
        "\n",
        "O jogo funciona permitindo que os jogadores façam jogadas, exibindo o estado do tabuleiro após cada jogada e anunciando o vencedor ou um empate quando apropriado.\n",
        "\n"
      ],
      "metadata": {
        "id": "IHMFjPZpfbGL"
      }
    },
    {
      "cell_type": "markdown",
      "source": [
        " - **Passo 1: A função que imprime o tabuleiro.**\n",
        "\n",
        ">**Explicação**:\n",
        "\n",
        " - Esta função recebe o estado atual do tabuleiro (uma lista 3x3) como parâmetro.\n",
        " - Usa um loop `for` para iterar sobre cada linha do tabuleiro.\n",
        " - O `print(\" | \".join(linha))` cria uma string para representar uma linha do tabuleiro, com células separadas por `\"|\"`.\n",
        " - O `print(\"-\" * 5)` exibe uma linha horizontal entre as linhas do tabuleiro para melhorar a visualização."
      ],
      "metadata": {
        "id": "Nuo_d1Y1gogO"
      }
    },
    {
      "cell_type": "code",
      "source": [
        "def imprimir_tabuleiro(tabuleiro):\n",
        "    for linha in tabuleiro:\n",
        "        print(\" | \".join(linha))\n",
        "        print(\"-\" * 5)"
      ],
      "metadata": {
        "id": "5cyFFTKxga6W"
      },
      "execution_count": null,
      "outputs": []
    },
    {
      "cell_type": "markdown",
      "source": [
        " - **Passo 2: função que verifica a vitória.**\n",
        "\n",
        " > **Explicação:**\n",
        "\n",
        " - Esta função verifica se o jogador passado como argumento (`'X'` ou `'O'`) venceu o jogo.\n",
        " - Usa loops para verificar vitória nas linhas, colunas e diagonais.\n",
        "\n",
        " - `all(cell == jogador for cell in linha)` verifica se todas as células em uma linha são ocupadas pelo mesmo jogador.\n",
        "\n",
        " - A primeira parte do código lida com vitórias nas linhas, a segunda parte lida com vitórias nas colunas, e a terceira parte lida com vitórias nas diagonais."
      ],
      "metadata": {
        "id": "gL2QNzkHhRFI"
      }
    },
    {
      "cell_type": "code",
      "source": [
        "def verificar_vitoria(tabuleiro, jogador):\n",
        "    for linha in tabuleiro:\n",
        "        if all(cell == jogador for cell in linha):\n",
        "            return True\n",
        "\n",
        "    for coluna in range(3):\n",
        "        if all(tabuleiro[linha][coluna] == jogador for linha in range(3)):\n",
        "            return True\n",
        "\n",
        "    if all(tabuleiro[i][i] == jogador for i in range(3)) or all(tabuleiro[i][2 - i] == jogador for i in range(3)):\n",
        "        return True\n",
        "\n",
        "    return False"
      ],
      "metadata": {
        "id": "LywiiMS_humW"
      },
      "execution_count": null,
      "outputs": []
    },
    {
      "cell_type": "markdown",
      "source": [
        "- **Passo 3: função principal**\n",
        "\n",
        " > **Explicação:**\n",
        "\n",
        " - A função principal `jogar_jogo_da_velha` coordena o jogo.\n",
        " - Inicializa o tabuleiro como uma lista 3x3 preenchida com espaços em branco.\n",
        " - Usa um loop `while` True para permitir que os jogadores façam suas jogadas até que haja uma vitória ou empate.\n",
        " - Chama a função `imprimir_tabuleiro` para exibir o estado atual do tabuleiro após cada jogada.\n",
        " - Obtém as coordenadas da jogada do jogador atual e verifica se a posição está vazia antes de fazer a jogada.\n",
        " - Chama a função `verificar_vitoria` para verificar se o jogador atual venceu após cada jogada.\n",
        " - Alterna entre jogadores (`X` e `O`) após cada jogada."
      ],
      "metadata": {
        "id": "mpH3ijZBhzGE"
      }
    },
    {
      "cell_type": "code",
      "source": [
        "def jogar_jogo_da_velha():\n",
        "    tabuleiro = [[' ' for _ in range(3)] for _ in range(3)]\n",
        "    jogadores = ['X', 'O']\n",
        "    jogador_atual = 0\n",
        "    jogadas = 0\n",
        "\n",
        "    while True:\n",
        "        imprimir_tabuleiro(tabuleiro)\n",
        "\n",
        "        linha = int(input(f\"Jogador {jogadores[jogador_atual]}, escolha a linha (0, 1, 2): \"))\n",
        "        coluna = int(input(f\"Jogador {jogadores[jogador_atual]}, escolha a coluna (0, 1, 2): \"))\n",
        "\n",
        "        if tabuleiro[linha][coluna] == ' ':\n",
        "            tabuleiro[linha][coluna] = jogadores[jogador_atual]\n",
        "            jogadas += 1\n",
        "\n",
        "            if verificar_vitoria(tabuleiro, jogadores[jogador_atual]):\n",
        "                imprimir_tabuleiro(tabuleiro)\n",
        "                print(f\"Jogador {jogadores[jogador_atual]} venceu!\")\n",
        "                break\n",
        "            elif jogadas == 9:\n",
        "                imprimir_tabuleiro(tabuleiro)\n",
        "                print(\"O jogo terminou em empate!\")\n",
        "                break\n",
        "\n",
        "            jogador_atual = 1 - jogador_atual\n",
        "        else:\n",
        "            print(\"Posição ocupada. Escolha outra.\")\n"
      ],
      "metadata": {
        "id": "UP5D6pf2icXT"
      },
      "execution_count": null,
      "outputs": []
    },
    {
      "cell_type": "markdown",
      "source": [
        "Abaixo temos todo o código para ser executado e testado.\n",
        "\n",
        "Algo relevante de se falar é que :\n",
        "\n",
        "  >   if __name__ == \"__main__\":\n",
        "\n",
        " - Garante que o bloco de código dentro dele só seja executado se o script for executado diretamente, não se for importado como módulo.\n",
        " - Neste caso, inicia o jogo da velha chamando a função `jogar_jogo_da_velha()`."
      ],
      "metadata": {
        "id": "HUjxZQOyigYL"
      }
    },
    {
      "cell_type": "code",
      "source": [
        "def imprimir_tabuleiro(tabuleiro):\n",
        "    for linha in tabuleiro:\n",
        "        print(\" | \".join(linha))\n",
        "        print(\"-\" * 5)\n",
        "\n",
        "def verificar_vitoria(tabuleiro, jogador):\n",
        "    # Verifica vitória nas linhas, colunas e diagonais\n",
        "    for linha in tabuleiro:\n",
        "        if all(cell == jogador for cell in linha):\n",
        "            return True\n",
        "\n",
        "    for coluna in range(3):\n",
        "        if all(tabuleiro[linha][coluna] == jogador for linha in range(3)):\n",
        "            return True\n",
        "\n",
        "    if all(tabuleiro[i][i] == jogador for i in range(3)) or all(tabuleiro[i][2 - i] == jogador for i in range(3)):\n",
        "        return True\n",
        "\n",
        "    return False\n",
        "\n",
        "def jogar_jogo_da_velha():\n",
        "    tabuleiro = [[' ' for _ in range(3)] for _ in range(3)]\n",
        "    jogadores = ['X', 'O']\n",
        "    jogador_atual = 0  # Começa com o jogador X\n",
        "    jogadas = 0\n",
        "\n",
        "    while True:\n",
        "        imprimir_tabuleiro(tabuleiro)\n",
        "\n",
        "        linha = int(input(f\"Jogador {jogadores[jogador_atual]}, escolha a linha (0, 1, 2): \"))\n",
        "        coluna = int(input(f\"Jogador {jogadores[jogador_atual]}, escolha a coluna (0, 1, 2): \"))\n",
        "\n",
        "        if tabuleiro[linha][coluna] == ' ':\n",
        "            tabuleiro[linha][coluna] = jogadores[jogador_atual]\n",
        "            jogadas += 1\n",
        "\n",
        "            if verificar_vitoria(tabuleiro, jogadores[jogador_atual]):\n",
        "                imprimir_tabuleiro(tabuleiro)\n",
        "                print(f\"Jogador {jogadores[jogador_atual]} venceu!\")\n",
        "                break\n",
        "            elif jogadas == 9:\n",
        "                imprimir_tabuleiro(tabuleiro)\n",
        "                print(\"O jogo terminou em empate!\")\n",
        "                break\n",
        "\n",
        "            jogador_atual = 1 - jogador_atual  # Alternar entre jogadores\n",
        "        else:\n",
        "            print(\"Posição ocupada. Escolha outra.\")\n",
        "\n",
        "if __name__ == \"__main__\":\n",
        "    print(\"Bem-vindo ao Jogo da Velha!\")\n",
        "    jogar_jogo_da_velha()\n"
      ],
      "metadata": {
        "colab": {
          "base_uri": "https://localhost:8080/"
        },
        "id": "6B5aIDXagS_I",
        "outputId": "cc871fa2-0d51-4ad5-9740-ad317bde1351"
      },
      "execution_count": 1,
      "outputs": [
        {
          "output_type": "stream",
          "name": "stdout",
          "text": [
            "Bem-vindo ao Jogo da Velha!\n",
            "  |   |  \n",
            "-----\n",
            "  |   |  \n",
            "-----\n",
            "  |   |  \n",
            "-----\n",
            "Jogador X, escolha a linha (0, 1, 2): 0\n",
            "Jogador X, escolha a coluna (0, 1, 2): 1\n",
            "  | X |  \n",
            "-----\n",
            "  |   |  \n",
            "-----\n",
            "  |   |  \n",
            "-----\n",
            "Jogador O, escolha a linha (0, 1, 2): 2\n",
            "Jogador O, escolha a coluna (0, 1, 2): 2\n",
            "  | X |  \n",
            "-----\n",
            "  |   |  \n",
            "-----\n",
            "  |   | O\n",
            "-----\n",
            "Jogador X, escolha a linha (0, 1, 2): 0\n",
            "Jogador X, escolha a coluna (0, 1, 2): 0\n",
            "X | X |  \n",
            "-----\n",
            "  |   |  \n",
            "-----\n",
            "  |   | O\n",
            "-----\n",
            "Jogador O, escolha a linha (0, 1, 2): 1\n",
            "Jogador O, escolha a coluna (0, 1, 2): 1\n",
            "X | X |  \n",
            "-----\n",
            "  | O |  \n",
            "-----\n",
            "  |   | O\n",
            "-----\n",
            "Jogador X, escolha a linha (0, 1, 2): 2\n",
            "Jogador X, escolha a coluna (0, 1, 2): 2\n",
            "Posição ocupada. Escolha outra.\n",
            "X | X |  \n",
            "-----\n",
            "  | O |  \n",
            "-----\n",
            "  |   | O\n",
            "-----\n",
            "Jogador X, escolha a linha (0, 1, 2): 0\n",
            "Jogador X, escolha a coluna (0, 1, 2): 2\n",
            "X | X | X\n",
            "-----\n",
            "  | O |  \n",
            "-----\n",
            "  |   | O\n",
            "-----\n",
            "Jogador X venceu!\n"
          ]
        }
      ]
    }
  ]
}