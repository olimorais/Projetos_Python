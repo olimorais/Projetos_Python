{
  "nbformat": 4,
  "nbformat_minor": 0,
  "metadata": {
    "colab": {
      "provenance": [],
      "authorship_tag": "ABX9TyPVI8jGvOSMepnftp7aKF0i",
      "include_colab_link": true
    },
    "kernelspec": {
      "name": "python3",
      "display_name": "Python 3"
    },
    "language_info": {
      "name": "python"
    }
  },
  "cells": [
    {
      "cell_type": "markdown",
      "metadata": {
        "id": "view-in-github",
        "colab_type": "text"
      },
      "source": [
        "<a href=\"https://colab.research.google.com/github/olimorais/Projetos_Python/blob/main/conversor_de_medidas.ipynb\" target=\"_parent\"><img src=\"https://colab.research.google.com/assets/colab-badge.svg\" alt=\"Open In Colab\"/></a>"
      ]
    },
    {
      "cell_type": "markdown",
      "source": [
        "# Projeto 3: Conversor de Medidas\n",
        "\n",
        "Nesse projeto vamos desenvolver um programa que converta unidades de medida, como quilômetros para milhas, Celsius para Fahrenheit, entre outras. O usuário deve entrar com a medida e selecionar a conversão desejada.\n",
        "\n"
      ],
      "metadata": {
        "id": "mLIZmrcMZ85x"
      }
    },
    {
      "cell_type": "markdown",
      "source": [
        " - **Passo 1) Definir as funções de conversão:**\n",
        "\n",
        " A primeira função transforma a distância de Km para milhas."
      ],
      "metadata": {
        "id": "jSAGdhNva9t0"
      }
    },
    {
      "cell_type": "code",
      "source": [
        "def km_para_milhas(distancia_km):\n",
        "    # 1 km é aproximadamente 0,621371 milhas\n",
        "    return distancia_km * 0.621371"
      ],
      "metadata": {
        "id": "4HUJgD_ibXf4"
      },
      "execution_count": 1,
      "outputs": []
    },
    {
      "cell_type": "markdown",
      "source": [
        "A segunda função transforma a temperatura de Celsius para Fahrenheit."
      ],
      "metadata": {
        "id": "gfGfr3b5bcAZ"
      }
    },
    {
      "cell_type": "code",
      "source": [
        "def celsius_para_fahrenheit(temp_celsius):\n",
        "    # Fórmula de conversão de Celsius para Fahrenheit: F = (C * 9/5) + 32\n",
        "    return (temp_celsius * 9/5) + 32"
      ],
      "metadata": {
        "id": "3u5vaCsZbs61"
      },
      "execution_count": 2,
      "outputs": []
    },
    {
      "cell_type": "markdown",
      "source": [
        "Aqui outras funções podem ser criadas para serem feitas outros tipos de conversão.  Isto é, converter de Km para metros, centímetros e milímetros! Use a imaginação e divirta-se!"
      ],
      "metadata": {
        "id": "5b3Zd7MtbxUe"
      }
    },
    {
      "cell_type": "markdown",
      "source": [
        "Depois definimos a função principal, onde temos as principais funcionalidades. É aqui que o usuário pode escolher qual a conversão desejada e temos a saída das informações.\n",
        "\n",
        "Abaixo temos o código todo integrado e assim, ele poderá ser testado!"
      ],
      "metadata": {
        "id": "DlwTx8frcC_A"
      }
    },
    {
      "cell_type": "code",
      "source": [
        "def km_para_milhas(distancia_km):\n",
        "    # 1 km é aproximadamente 0,621371 milhas\n",
        "    return distancia_km * 0.621371\n",
        "\n",
        "def celsius_para_fahrenheit(temp_celsius):\n",
        "    # Fórmula de conversão de Celsius para Fahrenheit: F = (C * 9/5) + 32\n",
        "    return (temp_celsius * 9/5) + 32\n",
        "\n",
        "# Função principal\n",
        "def main():\n",
        "    print(\"Bem-vindo ao Conversor de Unidades!\")\n",
        "\n",
        "    # Solicitar ao usuário a escolha da conversão\n",
        "    print(\"\\nEscolha a conversão:\")\n",
        "    print(\"1. Quilômetros para Milhas\")\n",
        "    print(\"2. Celsius para Fahrenheit\")\n",
        "\n",
        "    escolha = input(\"\\nDigite o número da opção desejada: \")\n",
        "\n",
        "    if escolha == '1':\n",
        "        # Conversão de Quilômetros para Milhas\n",
        "        distancia_km = float(input(\"\\nDigite a distância em quilômetros: \"))\n",
        "        distancia_milhas = km_para_milhas(distancia_km)\n",
        "        print(f\"{distancia_km} quilômetros são aproximadamente {distancia_milhas:.2f} milhas.\")\n",
        "\n",
        "    elif escolha == '2':\n",
        "        # Conversão de Celsius para Fahrenheit\n",
        "        temp_celsius = float(input(\"\\nDigite a temperatura em graus Celsius: \"))\n",
        "        temp_fahrenheit = celsius_para_fahrenheit(temp_celsius)\n",
        "        print(f\"{temp_celsius} graus Celsius são equivalentes a {temp_fahrenheit:.2f} graus Fahrenheit.\")\n",
        "\n",
        "    else:\n",
        "        print(\"Opção inválida. Por favor, escolha uma opção válida.\")\n",
        "\n",
        "if __name__ == \"__main__\":\n",
        "    main()\n"
      ],
      "metadata": {
        "colab": {
          "base_uri": "https://localhost:8080/"
        },
        "id": "4Jc8pTHRa1hE",
        "outputId": "14f8c34f-21ae-4025-a301-77cd2f611027"
      },
      "execution_count": 4,
      "outputs": [
        {
          "output_type": "stream",
          "name": "stdout",
          "text": [
            "Bem-vindo ao Conversor de Unidades!\n",
            "\n",
            "Escolha a conversão:\n",
            "1. Quilômetros para Milhas\n",
            "2. Celsius para Fahrenheit\n",
            "\n",
            "Digite o número da opção desejada: 1\n",
            "\n",
            "Digite a distância em quilômetros: 10000\n",
            "10000.0 quilômetros são aproximadamente 6213.71 milhas.\n"
          ]
        }
      ]
    }
  ]
}