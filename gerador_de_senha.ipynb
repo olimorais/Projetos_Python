{
  "nbformat": 4,
  "nbformat_minor": 0,
  "metadata": {
    "colab": {
      "provenance": [],
      "authorship_tag": "ABX9TyMGOzwJrwHOujECgtFsfJ7r",
      "include_colab_link": true
    },
    "kernelspec": {
      "name": "python3",
      "display_name": "Python 3"
    },
    "language_info": {
      "name": "python"
    }
  },
  "cells": [
    {
      "cell_type": "markdown",
      "metadata": {
        "id": "view-in-github",
        "colab_type": "text"
      },
      "source": [
        "<a href=\"https://colab.research.google.com/github/olimorais/Projetos_Python/blob/main/gerador_de_senha.ipynb\" target=\"_parent\"><img src=\"https://colab.research.google.com/assets/colab-badge.svg\" alt=\"Open In Colab\"/></a>"
      ]
    },
    {
      "cell_type": "markdown",
      "source": [
        "# Projeto 2: Gerador de Senha\n",
        "\n",
        "Nesse projeto vamos desenvolver um programa que gere senhas aleatórias e seguras, e para isso, vamos levar em consideração critérios como comprimento e uso de caracteres especiais.\n"
      ],
      "metadata": {
        "id": "mYdsz3lfTsq-"
      }
    },
    {
      "cell_type": "markdown",
      "source": [
        " - **Passo 1: importação de bibliotecas**\n",
        "\n",
        "O  `random` é usado para gerar números aleatórios.\n",
        "\n",
        "O `string` fornece várias constantes de strings úteis, como letras maiúsculas e minúsculas, dígitos e pontuações."
      ],
      "metadata": {
        "id": "kwr32ISAV154"
      }
    },
    {
      "cell_type": "code",
      "source": [
        "import random\n",
        "import string"
      ],
      "metadata": {
        "id": "hSNV7z7OUXIS"
      },
      "execution_count": 2,
      "outputs": []
    },
    {
      "cell_type": "markdown",
      "source": [
        " - **Passo 2: Definição da função** **`gerar_senha`:**\n",
        "\n",
        "A função aceita quatro parâmetros:\n",
        "\n",
        "- `comprimento`: define o comprimento da senha (por padrão foi definido 12 caracteres).\n",
        "\n",
        "- `usar_maiusculas`: se True, inclui letras maiúsculas na senha.\n",
        "\n",
        "- `usar_numeros`: se True, inclui números na senha.\n",
        "\n",
        "- `usar_especiais`: se True, inclui caracteres especiais na senha."
      ],
      "metadata": {
        "id": "alx8O1BwWXpM"
      }
    },
    {
      "cell_type": "code",
      "source": [
        "def gerar_senha(comprimento=12, usar_maiusculas=True, usar_numeros=True, usar_especiais=True):\n",
        "    caracteres = string.ascii_letters if usar_maiusculas else string.ascii_lowercase\n",
        "    caracteres += string.digits if usar_numeros else ''\n",
        "    caracteres += string.punctuation if usar_especiais else ''\n",
        "\n",
        "    senha = ''.join(random.choice(caracteres) for _ in range(comprimento))\n",
        "    return senha"
      ],
      "metadata": {
        "id": "Xa_CCoDvWWye"
      },
      "execution_count": 3,
      "outputs": []
    },
    {
      "cell_type": "markdown",
      "source": [
        "Na função temos que construir as listas de caracteres que são permitidos de serem usados.\n",
        "\n",
        "A construção dessas listas está nas linhas 2 a 4, vamos eexplicar cada uma.\n",
        "\n",
        " - `string.ascii_letters`: contém todas as letras do alfabeto, tanto maiúsculas quanto minúsculas.\n",
        "\n",
        " - `string.digits`: contém todos os dígitos de 0 a 9.\n",
        "\n",
        " - `string.punctuation`: contém uma sequência de caracteres de pontuação (caracteres especiais).\n",
        "\n",
        "\n",
        "A **geração de senha** ocorre na linha 6.\n",
        "\n",
        " - `random.choice(caracteres)`: escolhe aleatoriamente um caractere da string caracteres.\n",
        " - `for _ in range(comprimento)`: repete o processo para gerar a senha com o comprimento desejado.\n",
        " - `''.join(...)`: une os caracteres escolhidos em uma única string.\n",
        "\n",
        "\n",
        "O **retorno da senha gerada** ocorre na última linha (7) da função."
      ],
      "metadata": {
        "id": "0aJ9MjNLXUbd"
      }
    },
    {
      "cell_type": "markdown",
      "source": [
        "Abaixo segue o exemplo do gerador de senha funcionando!"
      ],
      "metadata": {
        "id": "RtcowZB8YptL"
      }
    },
    {
      "cell_type": "code",
      "source": [
        "import random\n",
        "import string\n",
        "\n",
        "def gerar_senha(comprimento=12, usar_maiusculas=True, usar_numeros=True, usar_especiais=True):\n",
        "    caracteres = string.ascii_letters if usar_maiusculas else string.ascii_lowercase\n",
        "    caracteres += string.digits if usar_numeros else ''\n",
        "    caracteres += string.punctuation if usar_especiais else ''\n",
        "\n",
        "    senha = ''.join(random.choice(caracteres) for _ in range(comprimento))\n",
        "    return senha\n",
        "\n",
        "# Exemplo de uso:\n",
        "\n",
        "comprimento_senha = 16 # aqui o valor pode ser alterado para gerar a senha do tamanho que você deseja\n",
        "senha_gerada = gerar_senha(comprimento_senha)\n",
        "\n",
        "print(f'Senha gerada: {senha_gerada}')\n"
      ],
      "metadata": {
        "colab": {
          "base_uri": "https://localhost:8080/"
        },
        "id": "Uszk5pqVXTqJ",
        "outputId": "fe043f82-5169-4d7f-a095-68f8500a8bd1"
      },
      "execution_count": 9,
      "outputs": [
        {
          "output_type": "stream",
          "name": "stdout",
          "text": [
            "Senha gerada: MnlgTZ}_a*:CH{\"[\n"
          ]
        }
      ]
    }
  ]
}