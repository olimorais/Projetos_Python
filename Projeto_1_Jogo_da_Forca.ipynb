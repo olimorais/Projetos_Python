{
  "nbformat": 4,
  "nbformat_minor": 0,
  "metadata": {
    "colab": {
      "provenance": [],
      "authorship_tag": "ABX9TyMHgwqycYltwb+vlyg4z+TN",
      "include_colab_link": true
    },
    "kernelspec": {
      "name": "python3",
      "display_name": "Python 3"
    },
    "language_info": {
      "name": "python"
    }
  },
  "cells": [
    {
      "cell_type": "markdown",
      "metadata": {
        "id": "view-in-github",
        "colab_type": "text"
      },
      "source": [
        "<a href=\"https://colab.research.google.com/github/olimorais/Projetos_Python/blob/main/Projeto_1_Jogo_da_Forca.ipynb\" target=\"_parent\"><img src=\"https://colab.research.google.com/assets/colab-badge.svg\" alt=\"Open In Colab\"/></a>"
      ]
    },
    {
      "cell_type": "markdown",
      "source": [
        "# Projeto 1: Jogo da Forca\n",
        "\n",
        "\n",
        "Ao desenvolver projetos em Python, teremos a oportunidade de aplicar os conceitos teóricos com projetos práticos. Isso ajudará a consolidar o conhecimento e a entender como a linguagem funciona em situações reais.\n",
        "\n",
        "O primeiro projeto será de implementar um jogo da forca, onde o jogador tenta adivinhar uma palavra oculta, tendo um número limitado de tentativas.\n",
        "\n",
        "Aqui vamos ir desenvolvendo o jogo passo-a-passo para ter um entendimento claro das funcionalidades do jogo.\n",
        "\n",
        "Então vamos lá!"
      ],
      "metadata": {
        "id": "rnAANfnFFEQh"
      }
    },
    {
      "cell_type": "markdown",
      "source": [
        " - **Passo 1 : Lista de Palavras Secretas**\n",
        "\n",
        "\n",
        "Primeiro precisamos ter uma lista com as palavras que o jogador precisa adivinhar. Pode ser algo estático no código ou você pode criar um banco de palavras.\n",
        "\n",
        "Criaremos uma função que escolhe aleatoriamente uma palavra de uma lista predefinida. Isso será a palavra que o jogador tentará adivinhar.\n"
      ],
      "metadata": {
        "id": "olUind8uHqXT"
      }
    },
    {
      "cell_type": "code",
      "source": [
        "import random\n",
        "\n",
        "def escolher_palavra():\n",
        "    palavras = [\"python\", \"programacao\", \"desenvolvimento\", \"computador\", \"linguagem\", \"java\", \"tecnologia\"]\n",
        "    return random.choice(palavras)\n"
      ],
      "metadata": {
        "id": "uMbeUGesIX7K"
      },
      "execution_count": 1,
      "outputs": []
    },
    {
      "cell_type": "markdown",
      "source": [
        "> Explicação:\n",
        "\n",
        "> Importamos o módulo **random** para poder escolher aleatoriamente uma palavra da lista.\n",
        "\n",
        "> Definimos uma função **escolher_palavra()** que retorna uma palavra aleatória da lista palavras."
      ],
      "metadata": {
        "id": "sXmn9_Y0JLzj"
      }
    },
    {
      "cell_type": "markdown",
      "source": [
        " - **Passo 2: Inicializar o jogo:**\n",
        "\n",
        "O passo 2 é criar a estrutura básica do jogo, incluindo a exibição inicial, a lógica de adivinhação e a verificação do resultado.\n",
        "\n"
      ],
      "metadata": {
        "id": "cr2nUewiJcZS"
      }
    },
    {
      "cell_type": "code",
      "source": [
        "def iniciar_jogo():\n",
        "    # Obtém a palavra secreta\n",
        "    palavra_secreta = escolher_palavra()\n",
        "\n",
        "    # Inicializa variáveis\n",
        "    palavra_descoberta = [\"_\"] * len(palavra_secreta)\n",
        "    tentativas_restantes = 10\n",
        "    letras_tentadas = []\n",
        "\n",
        "    # Exibe a mensagem de boas-vindas\n",
        "    print(\"Bem-vindo ao Jogo da Forca!\")\n",
        "    print(\" \".join(palavra_descoberta))\n",
        "\n",
        "    # Loop principal do jogo\n",
        "    while tentativas_restantes > 0 and \"_\" in palavra_descoberta:\n",
        "        # Obtém uma letra do jogador\n",
        "        letra = input(\"Digite uma letra: \").lower()\n",
        "\n",
        "        # Verifica se a letra já foi tentada\n",
        "        if letra in letras_tentadas:\n",
        "            print(\"Você já tentou essa letra. Tente outra.\")\n",
        "            continue\n",
        "\n",
        "        # Adiciona a letra à lista de letras tentadas\n",
        "        letras_tentadas.append(letra)\n",
        "\n",
        "        # Verifica se a letra está na palavra secreta\n",
        "        if letra in palavra_secreta:\n",
        "            for i in range(len(palavra_secreta)):\n",
        "                if palavra_secreta[i] == letra:\n",
        "                    palavra_descoberta[i] = letra\n",
        "        else:\n",
        "            # Reduz as tentativas se a letra não estiver na palavra\n",
        "            tentativas_restantes -= 1\n",
        "            print(f\"Letra incorreta! Tentativas restantes: {tentativas_restantes}\")\n",
        "\n",
        "        # Exibe as letras tentadas e a palavra atualizada\n",
        "        print(\"Letras tentadas: \", \" \".join(letras_tentadas))\n",
        "        print(\" \".join(palavra_descoberta))\n",
        "\n",
        "    # Verifica o resultado do jogo\n",
        "    if \"_\" not in palavra_descoberta:\n",
        "        print(\"Parabéns! Você acertou a palavra.\")\n",
        "    else:\n",
        "        print(f\"Fim de jogo! A palavra era {palavra_secreta}. Tente novamente.\")\n"
      ],
      "metadata": {
        "id": "TXwkbwDwJymb"
      },
      "execution_count": 2,
      "outputs": []
    },
    {
      "cell_type": "markdown",
      "source": [
        ">Explicação:\n",
        "\n",
        "- O código inicializa variáveis, como a palavra descoberta, o número de tentativas restantes e as letras já tentadas.\n",
        "- Dentro do loop principal, o jogador é solicitado a digitar uma letra.\n",
        "A lógica verifica se a letra está correta, atualiza a palavra descoberta e informa sobre as tentativas restantes.\n",
        "- O loop continua até que o jogador acerte a palavra ou esgote suas tentativas."
      ],
      "metadata": {
        "id": "FI72HnhbKAoK"
      }
    },
    {
      "cell_type": "markdown",
      "source": [
        "- **Passo 3: Inserção de uma função de dica:**\n",
        "\n",
        "Vamos adicionar uma função de dica para fornecer informações úteis ao jogador, caso ele precisse!"
      ],
      "metadata": {
        "id": "j1Xif6xyKNof"
      }
    },
    {
      "cell_type": "code",
      "source": [
        "def dar_dica(palavra_secreta, palavra_descoberta):\n",
        "    for i in range(len(palavra_secreta)):\n",
        "        if palavra_descoberta[i] == \"_\":\n",
        "            return f\"Dica: A palavra tem a letra '{palavra_secreta[i]}'.\"\n",
        "    return \"Não há mais dicas disponíveis.\"\n"
      ],
      "metadata": {
        "id": "w9AI-Nz7KAGb"
      },
      "execution_count": 3,
      "outputs": []
    },
    {
      "cell_type": "markdown",
      "source": [
        ">Explicação:\n",
        "\n",
        "- A função **dar_dica** verifica a palavra descoberta e fornece uma dica baseada na próxima letra não descoberta na palavra secreta.\n",
        "Você pode chamar essa função dentro do loop principal do jogo, caso o jogador solicite uma dica. Basta adicionar um trecho de código para lidar com a entrada do jogador para pedir dicas.\n"
      ],
      "metadata": {
        "id": "0ZyW7Qj8Km6K"
      }
    },
    {
      "cell_type": "markdown",
      "source": [
        " Segue abaixo o jogo todo implementado!\n",
        "\n",
        " Teste e divrta-se!"
      ],
      "metadata": {
        "id": "H18YK2GvNfqb"
      }
    },
    {
      "cell_type": "code",
      "source": [
        "import random\n",
        "\n",
        "def escolher_palavra():\n",
        "    palavras = [\"python\", \"programacao\", \"desenvolvimento\", \"computador\", \"linguagem\"]\n",
        "    return random.choice(palavras)\n",
        "\n",
        "def dar_dica(palavra_secreta, palavra_descoberta):\n",
        "    for i in range(len(palavra_secreta)):\n",
        "        if palavra_descoberta[i] == \"_\":\n",
        "            return f\"Dica: A palavra tem a letra '{palavra_secreta[i]}'.\"\n",
        "    return \"Não há mais dicas disponíveis.\"\n",
        "\n",
        "def iniciar_jogo():\n",
        "    palavra_secreta = escolher_palavra()\n",
        "    palavra_descoberta = [\"_\"] * len(palavra_secreta)\n",
        "    tentativas_restantes = 10\n",
        "    letras_tentadas = []\n",
        "\n",
        "    print(\"Bem-vindo ao Jogo da Forca!\")\n",
        "    print(\" \".join(palavra_descoberta))\n",
        "\n",
        "    while tentativas_restantes > 0 and \"_\" in palavra_descoberta:\n",
        "        # Obtém uma letra do jogador ou pede uma dica\n",
        "        entrada = input(\"Digite uma letra ou 'dica' para obter uma dica: \").lower()\n",
        "\n",
        "        if entrada == \"dica\":\n",
        "            print(dar_dica(palavra_secreta, palavra_descoberta))\n",
        "            continue\n",
        "\n",
        "        letra = entrada[0]  # Pega apenas o primeiro caractere digitado\n",
        "\n",
        "        if letra in letras_tentadas:\n",
        "            print(\"Você já tentou essa letra. Tente outra.\")\n",
        "            continue\n",
        "\n",
        "        letras_tentadas.append(letra)\n",
        "\n",
        "        if letra in palavra_secreta:\n",
        "            for i in range(len(palavra_secreta)):\n",
        "                if palavra_secreta[i] == letra:\n",
        "                    palavra_descoberta[i] = letra\n",
        "        else:\n",
        "            tentativas_restantes -= 1\n",
        "            print(f\"Letra incorreta! Tentativas restantes: {tentativas_restantes}\")\n",
        "\n",
        "        print(\"Letras tentadas: \", \" \".join(letras_tentadas))\n",
        "        print(\" \".join(palavra_descoberta))\n",
        "\n",
        "    if \"_\" not in palavra_descoberta:\n",
        "        print(\"Parabéns! Você acertou a palavra.\")\n",
        "    else:\n",
        "        print(f\"Fim de jogo! A palavra era {palavra_secreta}. Tente novamente.\")\n",
        "\n",
        "if __name__ == \"__main__\":\n",
        "    iniciar_jogo()\n"
      ],
      "metadata": {
        "colab": {
          "base_uri": "https://localhost:8080/"
        },
        "id": "28xoXl7EKi0M",
        "outputId": "0cfb9196-576b-4ce4-f711-5a561e3f5771"
      },
      "execution_count": 4,
      "outputs": [
        {
          "output_type": "stream",
          "name": "stdout",
          "text": [
            "Bem-vindo ao Jogo da Forca!\n",
            "_ _ _ _ _ _\n",
            "Digite uma letra ou 'dica' para obter uma dica: a\n",
            "Letra incorreta! Tentativas restantes: 9\n",
            "Letras tentadas:  a\n",
            "_ _ _ _ _ _\n",
            "Digite uma letra ou 'dica' para obter uma dica: p\n",
            "Letras tentadas:  a p\n",
            "p _ _ _ _ _\n",
            "Digite uma letra ou 'dica' para obter uma dica: y\n",
            "Letras tentadas:  a p y\n",
            "p y _ _ _ _\n",
            "Digite uma letra ou 'dica' para obter uma dica: dica\n",
            "Dica: A palavra tem a letra 't'.\n",
            "Digite uma letra ou 'dica' para obter uma dica: t\n",
            "Letras tentadas:  a p y t\n",
            "p y t _ _ _\n",
            "Digite uma letra ou 'dica' para obter uma dica: h\n",
            "Letras tentadas:  a p y t h\n",
            "p y t h _ _\n",
            "Digite uma letra ou 'dica' para obter uma dica: o\n",
            "Letras tentadas:  a p y t h o\n",
            "p y t h o _\n",
            "Digite uma letra ou 'dica' para obter uma dica: n\n",
            "Letras tentadas:  a p y t h o n\n",
            "p y t h o n\n",
            "Parabéns! Você acertou a palavra.\n"
          ]
        }
      ]
    },
    {
      "cell_type": "markdown",
      "source": [
        "Para executar o jogo sem ser aqui no colab, faça os seguintes passos:\n",
        "\n",
        " - 1) Abra um editor de texto (por exemplo, VSCode, Sublime Text) ou use um ambiente de desenvolvimento Python como o IDLE.\n",
        "\n",
        " - 2) Cole o código acima no arquivo.\n",
        "\n",
        " - 3) Salve o arquivo com a extensão `.py`, por exemplo, `jogo_da_forca.py`. Abra um terminal ou prompt de comando.\n",
        "\n",
        " - 4) Navegue até o diretório onde você salvou o arquivo usando o comando `cd caminho/do/diretorio`.\n",
        "\n",
        " - 5) Execute o jogo digitando python `jogo_da_forca.py` e pressionando Enter.\n",
        "\n",
        "Seguindo os passos é possível jogar o Jogo da Forca no terminal! Siga as instruções que aparecerão no console. Se quiser uma dica, basta digitar \"dica\". Divirta-se!"
      ],
      "metadata": {
        "id": "dAOPYnq4Nt1z"
      }
    }
  ]
}